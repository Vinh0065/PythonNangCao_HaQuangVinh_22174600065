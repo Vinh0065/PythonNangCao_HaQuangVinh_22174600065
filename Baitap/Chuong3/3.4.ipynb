{
 "cells": [
  {
   "cell_type": "code",
   "execution_count": 1,
   "metadata": {},
   "outputs": [
    {
     "name": "stdout",
     "output_type": "stream",
     "text": [
      "[ 1  2  3  4  5  1  7  8  9 10]\n"
     ]
    }
   ],
   "source": [
    "import numpy as np\n",
    "arr_zeros=np.arange(1, 11, 1)\n",
    "new=1\n",
    "arr_zeros[5]=new\n",
    "print(arr_zeros)"
   ]
  },
  {
   "cell_type": "code",
   "execution_count": 2,
   "metadata": {},
   "outputs": [
    {
     "name": "stdout",
     "output_type": "stream",
     "text": [
      "[10 11 12 13 14 15 16 17 18 19 20 21 22 23 24]\n",
      "[24 23 22 21 20 19 18 17 16 15 14 13 12 11 10]\n"
     ]
    }
   ],
   "source": [
    "arr_h=np.arange(10, 25, 1)\n",
    "print(arr_h)\n",
    "dao_nguoc = np.flip(arr_h)\n",
    "print(dao_nguoc)\n"
   ]
  },
  {
   "cell_type": "code",
   "execution_count": 3,
   "metadata": {},
   "outputs": [
    {
     "name": "stdout",
     "output_type": "stream",
     "text": [
      "[1 2 8 2 1 3 5]\n"
     ]
    }
   ],
   "source": [
    "arr_k = np.array([1, 2, 0, 8, 2, 0, 1, 3, 0, 5, 0])\n",
    "arr_1 = arr_k[arr_k != 0]\n",
    "print(arr_1)\n"
   ]
  },
  {
   "cell_type": "code",
   "execution_count": 4,
   "metadata": {},
   "outputs": [
    {
     "name": "stdout",
     "output_type": "stream",
     "text": [
      "[ 1  2  8  2  1 10 20]\n"
     ]
    }
   ],
   "source": [
    "arr_1[-2:]=[10,20]\n",
    "print(arr_1)\n"
   ]
  },
  {
   "cell_type": "code",
   "execution_count": 5,
   "metadata": {},
   "outputs": [
    {
     "name": "stdout",
     "output_type": "stream",
     "text": [
      "Mảng sau khi thêm phần tử 100: [  1   2   8   2   1 100  10  20]\n"
     ]
    }
   ],
   "source": [
    "index = 5\n",
    "new2 = 100\n",
    "arr_1=np.insert(arr_1, index, new2)\n",
    "print(\"Mảng sau khi thêm phần tử 100:\",arr_1)"
   ]
  },
  {
   "cell_type": "code",
   "execution_count": 6,
   "metadata": {},
   "outputs": [
    {
     "name": "stdout",
     "output_type": "stream",
     "text": [
      "[  2   1 100  10  20]\n"
     ]
    }
   ],
   "source": [
    "index_delete = [0, 1, 2]\n",
    "arr_1 = np.delete(arr_1, index_delete)\n",
    "print(arr_1)"
   ]
  }
 ],
 "metadata": {
  "kernelspec": {
   "display_name": "Python 3",
   "language": "python",
   "name": "python3"
  },
  "language_info": {
   "codemirror_mode": {
    "name": "ipython",
    "version": 3
   },
   "file_extension": ".py",
   "mimetype": "text/x-python",
   "name": "python",
   "nbconvert_exporter": "python",
   "pygments_lexer": "ipython3",
   "version": "3.11.4"
  }
 },
 "nbformat": 4,
 "nbformat_minor": 2
}
