{
 "cells": [
  {
   "cell_type": "code",
   "execution_count": 1,
   "metadata": {},
   "outputs": [],
   "source": [
    "import pandas as pd"
   ]
  },
  {
   "cell_type": "code",
   "execution_count": 2,
   "metadata": {},
   "outputs": [
    {
     "name": "stdout",
     "output_type": "stream",
     "text": [
      "Kiểu dữ liệu của drink: <class 'pandas.core.frame.DataFrame'>\n",
      "Kích thước của drink: (193, 6)\n",
      "Các cột của drink: Index(['country', 'beer_servings', 'spirit_servings', 'wine_servings',\n",
      "       'total_litres_of_pure_alcohol', 'continent'],\n",
      "      dtype='object')\n",
      "5 dòng đầu tiên của drink:\n",
      "       country  beer_servings  spirit_servings  wine_servings  \\\n",
      "0  Afghanistan              0                0              0   \n",
      "1      Albania             89              132             54   \n",
      "2      Algeria             25                0             14   \n",
      "3      Andorra            245              138            312   \n",
      "4       Angola            217               57             45   \n",
      "\n",
      "   total_litres_of_pure_alcohol continent  \n",
      "0                           0.0        AS  \n",
      "1                           4.9        EU  \n",
      "2                           0.7        AF  \n",
      "3                          12.4        EU  \n",
      "4                           5.9        AF  \n",
      "\n",
      "5 dòng cuối cùng của drink:\n",
      "       country  beer_servings  spirit_servings  wine_servings  \\\n",
      "188  Venezuela            333              100              3   \n",
      "189    Vietnam            111                2              1   \n",
      "190      Yemen              6                0              0   \n",
      "191     Zambia             32               19              4   \n",
      "192   Zimbabwe             64               18              4   \n",
      "\n",
      "     total_litres_of_pure_alcohol continent  \n",
      "188                           7.7        SA  \n",
      "189                           2.0        AS  \n",
      "190                           0.1        AS  \n",
      "191                           2.5        AF  \n",
      "192                           4.7        AF  \n"
     ]
    }
   ],
   "source": [
    "drink = pd.read_csv('drinks.csv', index_col=0)\n",
    "print(\"Kiểu dữ liệu của drink:\", type(drink))\n",
    "print(\"Kích thước của drink:\", drink.shape)\n",
    "print(\"Các cột của drink:\", drink.columns)\n",
    "print(\"5 dòng đầu tiên của drink:\")\n",
    "print(drink.head())\n",
    "print(\"\\n5 dòng cuối cùng của drink:\")\n",
    "print(drink.tail())"
   ]
  },
  {
   "cell_type": "code",
   "execution_count": 3,
   "metadata": {},
   "outputs": [
    {
     "name": "stdout",
     "output_type": "stream",
     "text": [
      "\n",
      "Số lượng bia tiêu thụ trung bình ở mỗi châu lục:\n",
      "continent\n",
      "AF     61.471698\n",
      "AS     37.045455\n",
      "EU    193.777778\n",
      "OC     89.687500\n",
      "SA    175.083333\n",
      "Name: beer_servings, dtype: float64\n"
     ]
    }
   ],
   "source": [
    "bia_tieu_thu_trung_binh = drink.groupby('continent')['beer_servings'].mean()\n",
    "print(\"\\nSố lượng bia tiêu thụ trung bình ở mỗi châu lục:\")\n",
    "print(bia_tieu_thu_trung_binh)"
   ]
  },
  {
   "cell_type": "code",
   "execution_count": 4,
   "metadata": {},
   "outputs": [
    {
     "name": "stdout",
     "output_type": "stream",
     "text": [
      "\n",
      "Thông tin thống kê tổng quát về số lượng rượu vang tiêu thụ ở mỗi châu lục:\n",
      "           count        mean        std  min   25%    50%     75%    max\n",
      "continent                                                               \n",
      "AF          53.0   16.264151  38.846419  0.0   1.0    2.0   13.00  233.0\n",
      "AS          44.0    9.068182  21.667034  0.0   0.0    1.0    8.00  123.0\n",
      "EU          45.0  142.222222  97.421738  0.0  59.0  128.0  195.00  370.0\n",
      "OC          16.0   35.625000  64.555790  0.0   1.0    8.5   23.25  212.0\n",
      "SA          12.0   62.416667  88.620189  1.0   3.0   12.0   98.50  221.0\n"
     ]
    }
   ],
   "source": [
    "thong_ke_tong_quat = drink.groupby('continent')['wine_servings'].describe()\n",
    "print(\"\\nThông tin thống kê tổng quát về số lượng rượu vang tiêu thụ ở mỗi châu lục:\")\n",
    "print(thong_ke_tong_quat)"
   ]
  },
  {
   "cell_type": "code",
   "execution_count": 5,
   "metadata": {},
   "outputs": [
    {
     "name": "stdout",
     "output_type": "stream",
     "text": [
      "\n",
      "Số lượng các loại bia và rượu tiêu thụ trung bình ở mỗi châu lục:\n",
      "           beer_servings  wine_servings\n",
      "continent                              \n",
      "AF             61.471698      16.264151\n",
      "AS             37.045455       9.068182\n",
      "EU            193.777778     142.222222\n",
      "OC             89.687500      35.625000\n",
      "SA            175.083333      62.416667\n"
     ]
    }
   ],
   "source": [
    "loai_bia_ruou_tieu_thu_trung_binh = drink.groupby('continent')[['beer_servings', 'wine_servings']].mean()\n",
    "print(\"\\nSố lượng các loại bia và rượu tiêu thụ trung bình ở mỗi châu lục:\")\n",
    "print(loai_bia_ruou_tieu_thu_trung_binh)"
   ]
  },
  {
   "cell_type": "code",
   "execution_count": 6,
   "metadata": {},
   "outputs": [
    {
     "name": "stdout",
     "output_type": "stream",
     "text": [
      "\n",
      "Giá trị trung vị cho các loại bia và rượu tiêu thụ ở mỗi châu lục:\n",
      "           beer_servings  wine_servings\n",
      "continent                              \n",
      "AF                  32.0            2.0\n",
      "AS                  17.5            1.0\n",
      "EU                 219.0          128.0\n",
      "OC                  52.5            8.5\n",
      "SA                 162.5           12.0\n"
     ]
    }
   ],
   "source": [
    "gia_tri_trung_vi = drink.groupby('continent')[['beer_servings', 'wine_servings']].median()\n",
    "print(\"\\nGiá trị trung vị cho các loại bia và rượu tiêu thụ ở mỗi châu lục:\")\n",
    "print(gia_tri_trung_vi)"
   ]
  },
  {
   "cell_type": "code",
   "execution_count": 7,
   "metadata": {},
   "outputs": [
    {
     "name": "stdout",
     "output_type": "stream",
     "text": [
      "\n",
      "Số lượng rượu mạnh tiêu thụ trung bình, lớn nhất và nhỏ nhất ở mỗi châu lục:\n",
      "                 mean  max  min\n",
      "continent                      \n",
      "AF          16.339623  152    0\n",
      "AS          60.840909  326    0\n",
      "EU         132.555556  373    0\n",
      "OC          58.437500  254    0\n",
      "SA         114.750000  302   25\n"
     ]
    }
   ],
   "source": [
    "ruou_manh_tieu_thu = drink.groupby('continent')['spirit_servings'].agg(['mean', 'max', 'min'])\n",
    "print(\"\\nSố lượng rượu mạnh tiêu thụ trung bình, lớn nhất và nhỏ nhất ở mỗi châu lục:\")\n",
    "print(ruou_manh_tieu_thu)"
   ]
  },
  {
   "cell_type": "code",
   "execution_count": 8,
   "metadata": {},
   "outputs": [
    {
     "name": "stdout",
     "output_type": "stream",
     "text": [
      "\n",
      "5 quốc gia có lượng tiêu thụ bia nhiều nhất:\n",
      "            country  beer_servings  spirit_servings  wine_servings  \\\n",
      "135          Poland            343              215             56   \n",
      "65          Germany            346              117            175   \n",
      "62            Gabon            347               98             59   \n",
      "45   Czech Republic            361              170            134   \n",
      "117         Namibia            376                3              1   \n",
      "\n",
      "     total_litres_of_pure_alcohol continent  \n",
      "135                          10.9        EU  \n",
      "65                           11.3        EU  \n",
      "62                            8.9        AF  \n",
      "45                           11.8        EU  \n",
      "117                           6.8        AF  \n",
      "\n",
      "5 quốc gia có lượng tiêu thụ bia ít nhất:\n",
      "         country  beer_servings  spirit_servings  wine_servings  \\\n",
      "0    Afghanistan              0                0              0   \n",
      "40  Cook Islands              0              254             74   \n",
      "79          Iran              0                0              0   \n",
      "90        Kuwait              0                0              0   \n",
      "97         Libya              0                0              0   \n",
      "\n",
      "    total_litres_of_pure_alcohol continent  \n",
      "0                            0.0        AS  \n",
      "40                           5.9        OC  \n",
      "79                           0.0        AS  \n",
      "90                           0.0        AS  \n",
      "97                           0.0        AF  \n"
     ]
    }
   ],
   "source": [
    "drink_sorted = drink.sort_values(by='beer_servings', ascending=True)\n",
    "print(\"\\n5 quốc gia có lượng tiêu thụ bia nhiều nhất:\")\n",
    "print(drink_sorted.tail())\n",
    "print(\"\\n5 quốc gia có lượng tiêu thụ bia ít nhất:\")\n",
    "print(drink_sorted.head())"
   ]
  }
 ],
 "metadata": {
  "kernelspec": {
   "display_name": "Python 3",
   "language": "python",
   "name": "python3"
  },
  "language_info": {
   "codemirror_mode": {
    "name": "ipython",
    "version": 3
   },
   "file_extension": ".py",
   "mimetype": "text/x-python",
   "name": "python",
   "nbconvert_exporter": "python",
   "pygments_lexer": "ipython3",
   "version": "3.11.4"
  }
 },
 "nbformat": 4,
 "nbformat_minor": 2
}
