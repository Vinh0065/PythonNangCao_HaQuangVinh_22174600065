{
 "cells": [
  {
   "cell_type": "code",
   "execution_count": 1,
   "metadata": {},
   "outputs": [
    {
     "name": "stdout",
     "output_type": "stream",
     "text": [
      "Các phần tử chỉ xuất hiện trong cả hai mảng: [2 4]\n"
     ]
    }
   ],
   "source": [
    "import numpy as np\n",
    "arr_a = [1,2,3,2,3,4,3,4,5,6]\n",
    "arr_b = [7,2,10,2,7,4,9,4,9,8]\n",
    "arr_c = np.intersect1d(arr_a, arr_b)\n",
    "\n",
    "print(\"Các phần tử chỉ xuất hiện trong cả hai mảng:\",arr_c)"
   ]
  },
  {
   "cell_type": "code",
   "execution_count": 2,
   "metadata": {},
   "outputs": [
    {
     "name": "stdout",
     "output_type": "stream",
     "text": [
      "Các phần tử chỉ xuất hiện ở mảng a: [1 3 5 6]\n"
     ]
    }
   ],
   "source": [
    "arr_d=np.setdiff1d(arr_a,arr_b)\n",
    "print(\"Các phần tử chỉ xuất hiện ở mảng a:\",arr_d)"
   ]
  },
  {
   "cell_type": "code",
   "execution_count": 3,
   "metadata": {},
   "outputs": [
    {
     "name": "stdout",
     "output_type": "stream",
     "text": [
      "[ 3 27  8  6 25]\n"
     ]
    }
   ],
   "source": [
    "arr_e = np.array([2, 6, 1, 9, 10, 3, 27, 8, 6, 25, 16 ])\n",
    "arr_f = arr_e[5:10]\n",
    "print(arr_f)\n"
   ]
  }
 ],
 "metadata": {
  "kernelspec": {
   "display_name": "Python 3",
   "language": "python",
   "name": "python3"
  },
  "language_info": {
   "codemirror_mode": {
    "name": "ipython",
    "version": 3
   },
   "file_extension": ".py",
   "mimetype": "text/x-python",
   "name": "python",
   "nbconvert_exporter": "python",
   "pygments_lexer": "ipython3",
   "version": "3.11.4"
  }
 },
 "nbformat": 4,
 "nbformat_minor": 2
}
