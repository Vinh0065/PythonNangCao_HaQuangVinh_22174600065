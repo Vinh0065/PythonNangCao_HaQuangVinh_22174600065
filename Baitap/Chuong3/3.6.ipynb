{
 "cells": [
  {
   "cell_type": "code",
   "execution_count": 1,
   "metadata": {},
   "outputs": [],
   "source": [
    "import numpy as np\n",
    "arr = np.full((3, 3), True, dtype=bool)\n",
    "\n"
   ]
  },
  {
   "cell_type": "code",
   "execution_count": 2,
   "metadata": {},
   "outputs": [],
   "source": [
    "arr_1D = np.array([0, 1, 2, 3, 4, 5, 6, 7, 8])\n",
    "arr_2D = arr_1D.reshape(3, 3)\n",
    "arr_2D[:, [0, 2]] = arr_2D[:, [2, 0]] "
   ]
  },
  {
   "cell_type": "code",
   "execution_count": 3,
   "metadata": {},
   "outputs": [],
   "source": [
    "arr_2D[[0, 1], :] = arr_2D[[1, 0], :]"
   ]
  },
  {
   "cell_type": "code",
   "execution_count": 4,
   "metadata": {},
   "outputs": [],
   "source": [
    "arr_2D = np.flip(arr_2D, axis=0) "
   ]
  },
  {
   "cell_type": "code",
   "execution_count": 5,
   "metadata": {},
   "outputs": [],
   "source": [
    "arr_2D = np.flip(arr_2D, axis=1)"
   ]
  },
  {
   "cell_type": "code",
   "execution_count": 6,
   "metadata": {},
   "outputs": [],
   "source": [
    "arr_2D_null = np.array([[1, 2, 3], [np.nan, 5, 6], [7, np.nan, 9], [4, 5, 6]])\n",
    "has_nan = np.isnan(arr_2D_null).any()"
   ]
  },
  {
   "cell_type": "code",
   "execution_count": 8,
   "metadata": {},
   "outputs": [
    {
     "name": "stdout",
     "output_type": "stream",
     "text": [
      "Câu 1: Array với giá trị True:\n",
      "[[ True  True  True]\n",
      " [ True  True  True]\n",
      " [ True  True  True]]\n",
      "\n",
      "Câu 2: arr_2D sau khi chuyển cột 1 và cột 3:\n",
      "[[6 7 8]\n",
      " [0 1 2]\n",
      " [3 4 5]]\n",
      "\n",
      "Câu 3: arr_2D sau khi chuyển dòng 1 và dòng 2:\n",
      "[[6 7 8]\n",
      " [0 1 2]\n",
      " [3 4 5]]\n",
      "\n",
      "Câu 4: arr_2D sau khi đảo ngược các dòng:\n",
      "[[6 7 8]\n",
      " [0 1 2]\n",
      " [3 4 5]]\n",
      "\n",
      "Câu 5: arr_2D sau khi đảo ngược các cột:\n",
      "[[6 7 8]\n",
      " [0 1 2]\n",
      " [3 4 5]]\n",
      "\n",
      "Câu 6: Có giá trị NaN trong arr_2D_null không?  True\n",
      "\n",
      "Câu 7: arr_2D_null sau khi thay thế giá trị NaN bằng 0:\n",
      "[[1. 2. 3.]\n",
      " [0. 5. 6.]\n",
      " [7. 0. 9.]\n",
      " [4. 5. 6.]]\n"
     ]
    }
   ],
   "source": [
    "arr_2D_null[np.isnan(arr_2D_null)] = 0\n",
    "print(\"Câu 1: Array với giá trị True:\")\n",
    "print(arr)\n",
    "\n",
    "print(\"\\nCâu 2: arr_2D sau khi chuyển cột 1 và cột 3:\")\n",
    "print(arr_2D)\n",
    "\n",
    "print(\"\\nCâu 3: arr_2D sau khi chuyển dòng 1 và dòng 2:\")\n",
    "print(arr_2D)\n",
    "\n",
    "print(\"\\nCâu 4: arr_2D sau khi đảo ngược các dòng:\")\n",
    "print(arr_2D)\n",
    "\n",
    "print(\"\\nCâu 5: arr_2D sau khi đảo ngược các cột:\")\n",
    "print(arr_2D)\n",
    "\n",
    "print(\"\\nCâu 6: Có giá trị NaN trong arr_2D_null không? \", has_nan)\n",
    "print(\"\\nCâu 7: arr_2D_null sau khi thay thế giá trị NaN bằng 0:\")\n",
    "print(arr_2D_null)"
   ]
  }
 ],
 "metadata": {
  "kernelspec": {
   "display_name": "Python 3",
   "language": "python",
   "name": "python3"
  },
  "language_info": {
   "codemirror_mode": {
    "name": "ipython",
    "version": 3
   },
   "file_extension": ".py",
   "mimetype": "text/x-python",
   "name": "python",
   "nbconvert_exporter": "python",
   "pygments_lexer": "ipython3",
   "version": "3.11.4"
  }
 },
 "nbformat": 4,
 "nbformat_minor": 2
}
