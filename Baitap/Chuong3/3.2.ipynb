{
 "cells": [
  {
   "cell_type": "code",
   "execution_count": 1,
   "metadata": {},
   "outputs": [
    {
     "name": "stdout",
     "output_type": "stream",
     "text": [
      "Các phần tử trong mảng arr: int32\n",
      "Kích thước của mảng arr: (10,)\n"
     ]
    }
   ],
   "source": [
    "import numpy as np\n",
    "\n",
    "arr = np.arange(10)\n",
    "\n",
    "print(\"Các phần tử trong mảng arr:\",arr.dtype)\n",
    "print(\"Kích thước của mảng arr:\",arr.shape)"
   ]
  },
  {
   "cell_type": "code",
   "execution_count": 2,
   "metadata": {},
   "outputs": [
    {
     "name": "stdout",
     "output_type": "stream",
     "text": [
      "Các số lẻ trong mảng arr: [1 3 5 7 9]\n",
      "Các số chẵn trong mảng arr: [0 2 4 6 8]\n"
     ]
    }
   ],
   "source": [
    "arr_odd = arr[arr % 2!=0]\n",
    "\n",
    "arr_even = arr[arr %2==0]\n",
    "\n",
    "print(\"Các số lẻ trong mảng arr:\",arr_odd)\n",
    "\n",
    "print(\"Các số chẵn trong mảng arr:\",arr_even)"
   ]
  },
  {
   "cell_type": "code",
   "execution_count": 3,
   "metadata": {},
   "outputs": [
    {
     "name": "stdout",
     "output_type": "stream",
     "text": [
      "[  0 100   2 100   4 100   6 100   8 100]\n"
     ]
    }
   ],
   "source": [
    "arr_update_1=arr_odd\n",
    "new=100\n",
    "arr[arr_update_1]=new\n",
    "print(arr)"
   ]
  }
 ],
 "metadata": {
  "kernelspec": {
   "display_name": "Python 3",
   "language": "python",
   "name": "python3"
  },
  "language_info": {
   "codemirror_mode": {
    "name": "ipython",
    "version": 3
   },
   "file_extension": ".py",
   "mimetype": "text/x-python",
   "name": "python",
   "nbconvert_exporter": "python",
   "pygments_lexer": "ipython3",
   "version": "3.11.4"
  }
 },
 "nbformat": 4,
 "nbformat_minor": 2
}
